{
 "cells": [
  {
   "cell_type": "code",
   "execution_count": null,
   "id": "4fcade2e",
   "metadata": {},
   "outputs": [],
   "source": [
    "#1:\n",
    "The re. compile() function returns Regex objects"
   ]
  },
  {
   "cell_type": "code",
   "execution_count": 10,
   "id": "700d99a7",
   "metadata": {},
   "outputs": [
    {
     "name": "stdout",
     "output_type": "stream",
     "text": [
      "Hello \\n World\n"
     ]
    }
   ],
   "source": [
    "#2:\n",
    "Raw strings are used so that backslashes do not have to be escaped.\n",
    "s =r'Hello \\n World'\n",
    "print(s)"
   ]
  },
  {
   "cell_type": "code",
   "execution_count": null,
   "id": "67639d2d",
   "metadata": {},
   "outputs": [],
   "source": [
    "#3:\n",
    "The search() method returns -1 if no match is found.\n"
   ]
  },
  {
   "cell_type": "code",
   "execution_count": 13,
   "id": "55d2051a",
   "metadata": {},
   "outputs": [],
   "source": [
    "#4:\n",
    "The group() method returns strings of the matched text"
   ]
  },
  {
   "cell_type": "code",
   "execution_count": null,
   "id": "0647666a",
   "metadata": {},
   "outputs": [],
   "source": [
    "#5:\n",
    "\n",
    "Group 0 is the entire match, group 1 covers the first set of parentheses, and group 2 covers the second set of parentheses."
   ]
  },
  {
   "cell_type": "code",
   "execution_count": null,
   "id": "682faf92",
   "metadata": {},
   "outputs": [],
   "source": [
    "#6:\n",
    " Periods and parentheses can be escaped with a backslash: \\., \\(, and \\)."
   ]
  },
  {
   "cell_type": "code",
   "execution_count": null,
   "id": "7d02176d",
   "metadata": {},
   "outputs": [],
   "source": [
    "#7:\n",
    "If the regex has no groups, a list of strings is returned. If the regex has groups, a list of tuples of strings is returned"
   ]
  },
  {
   "cell_type": "code",
   "execution_count": 16,
   "id": "3315c7f2",
   "metadata": {},
   "outputs": [
    {
     "data": {
      "text/plain": [
       "13"
      ]
     },
     "execution_count": 16,
     "metadata": {},
     "output_type": "execute_result"
    }
   ],
   "source": [
    "#8:\n",
    "a=5\n",
    "b=8\n",
    "a|b"
   ]
  },
  {
   "cell_type": "code",
   "execution_count": null,
   "id": "a574e29f",
   "metadata": {},
   "outputs": [],
   "source": [
    "#9:\n",
    "Each character in a regular expression is either a metacharacter, having a special meaning, or a regular \n",
    "character that has a literal meaning.\n",
    "For example  : regex b. , 'b' is a literal character that matches just 'b', while '"
   ]
  },
  {
   "cell_type": "code",
   "execution_count": null,
   "id": "e7aee4bf",
   "metadata": {},
   "outputs": [],
   "source": [
    "#10:\n",
    "* means zero-or-more, and + means one-or-more."
   ]
  },
  {
   "cell_type": "code",
   "execution_count": null,
   "id": "b2904063",
   "metadata": {},
   "outputs": [],
   "source": [
    "#11:\n",
    "b{5} will match exactly five 'b' characters.\n",
    "b{2,5} will match from 2 to 5 'b' characters"
   ]
  },
  {
   "cell_type": "code",
   "execution_count": null,
   "id": "b5eadfbc",
   "metadata": {},
   "outputs": [],
   "source": [
    "#12:\n",
    "\\d: Matches any character which is a digit. Equivalent to [0-9]\n",
    "\\w: Matches characters considered alphanumeric in the ASCII character set; this is equivalent to [a-zA-Z0-9_]\n",
    "\\s: Matches any white space character including  \\t \\n \\r \\f \\v."
   ]
  },
  {
   "cell_type": "code",
   "execution_count": null,
   "id": "aff67dda",
   "metadata": {},
   "outputs": [],
   "source": [
    "#13:\n",
    "\\D:Matches any character which is not a decimal digit\n",
    "\\W:Matches any non-word character, equivalent to [^A-Za-z0-9_]\n",
    "\\S:Matches any character which is not a whitespace character"
   ]
  },
  {
   "cell_type": "code",
   "execution_count": null,
   "id": "6e3d6479",
   "metadata": {},
   "outputs": [],
   "source": [
    "#14:\n",
    "<(.*)> would match a></a where as <(.*?)> would match a."
   ]
  },
  {
   "cell_type": "code",
   "execution_count": 26,
   "id": "a4f85d3d",
   "metadata": {},
   "outputs": [
    {
     "name": "stdout",
     "output_type": "stream",
     "text": [
      "Not matched!\n",
      "Found a match!\n"
     ]
    }
   ],
   "source": [
    "#15:\n",
    "import re\n",
    "def text_match(text):\n",
    "        patterns = '^[a-zA-Z0-9_]*$'\n",
    "        if re.search(patterns,  text):\n",
    "                return 'Found a match!'\n",
    "        else:\n",
    "                return('Not matched!')\n",
    "\n",
    "print(text_match(\"Hello world\"))\n",
    "print(text_match(\"Python_Exercises_7\"))"
   ]
  },
  {
   "cell_type": "code",
   "execution_count": null,
   "id": "d8a29a56",
   "metadata": {},
   "outputs": [],
   "source": [
    "#16:\n",
    "IGNORECASE : This flag allows for case-insensitive matching of the Regular Expression with the given string."
   ]
  },
  {
   "cell_type": "code",
   "execution_count": null,
   "id": "f04b6ff6",
   "metadata": {},
   "outputs": [],
   "source": [
    "#17:\n",
    "character normally matches any character except the newline character. If re. DOTALL is passed as the second argument to \n",
    "re. compile(), then the dot will also match newline characters."
   ]
  },
  {
   "cell_type": "code",
   "execution_count": 28,
   "id": "b59838a4",
   "metadata": {},
   "outputs": [],
   "source": [
    "#18:\n",
    "X drummers, X pipers, five rings, X hens"
   ]
  },
  {
   "cell_type": "code",
   "execution_count": null,
   "id": "d1e6277e",
   "metadata": {},
   "outputs": [],
   "source": [
    "#19:\n",
    "The re. VERBOSE argument allows you to add whitespace and comments to the string passed to re."
   ]
  },
  {
   "cell_type": "code",
   "execution_count": null,
   "id": "e5038876",
   "metadata": {},
   "outputs": [],
   "source": [
    "#20:\n",
    "\n",
    " re.compile(r'^\\d{1,3}(,{3})*$')"
   ]
  },
  {
   "cell_type": "code",
   "execution_count": 50,
   "id": "5a6b2a6c",
   "metadata": {},
   "outputs": [
    {
     "data": {
      "text/plain": [
       "re.compile(r'[A-Z][a-z]*\\sWatanabe', re.UNICODE)"
      ]
     },
     "execution_count": 50,
     "metadata": {},
     "output_type": "execute_result"
    }
   ],
   "source": [
    "#21\n",
    "re.compile(r'[A-Z][a-z]*\\sWatanabe')"
   ]
  },
  {
   "cell_type": "code",
   "execution_count": 51,
   "id": "43b73de6",
   "metadata": {},
   "outputs": [
    {
     "data": {
      "text/plain": [
       "re.compile(r'(Alice|Bob|Carol)\\s(eats|pets|throws)\\ s(apples|cats|baseballs)\\.',\n",
       "re.IGNORECASE|re.UNICODE)"
      ]
     },
     "execution_count": 51,
     "metadata": {},
     "output_type": "execute_result"
    }
   ],
   "source": [
    "#22:\n",
    "re.compile(r'(Alice|Bob|Carol)\\s(eats|pets|throws)\\ s(apples|cats|baseballs)\\.', re.IGNORECASE)"
   ]
  },
  {
   "cell_type": "code",
   "execution_count": null,
   "id": "eca22576",
   "metadata": {},
   "outputs": [],
   "source": []
  }
 ],
 "metadata": {
  "kernelspec": {
   "display_name": "Python 3 (ipykernel)",
   "language": "python",
   "name": "python3"
  },
  "language_info": {
   "codemirror_mode": {
    "name": "ipython",
    "version": 3
   },
   "file_extension": ".py",
   "mimetype": "text/x-python",
   "name": "python",
   "nbconvert_exporter": "python",
   "pygments_lexer": "ipython3",
   "version": "3.9.7"
  }
 },
 "nbformat": 4,
 "nbformat_minor": 5
}
